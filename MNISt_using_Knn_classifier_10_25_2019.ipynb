{
  "nbformat": 4,
  "nbformat_minor": 0,
  "metadata": {
    "colab": {
      "name": "Untitled1.ipynb",
      "provenance": [],
      "include_colab_link": true
    },
    "kernelspec": {
      "name": "python3",
      "display_name": "Python 3"
    }
  },
  "cells": [
    {
      "cell_type": "markdown",
      "metadata": {
        "id": "view-in-github",
        "colab_type": "text"
      },
      "source": [
        "<a href=\"https://colab.research.google.com/github/avanish-fullstack/HandsOnML/blob/master/MNISt_using_Knn_classifier_10_25_2019.ipynb\" target=\"_parent\"><img src=\"https://colab.research.google.com/assets/colab-badge.svg\" alt=\"Open In Colab\"/></a>"
      ]
    },
    {
      "cell_type": "code",
      "metadata": {
        "id": "i8dMYxaH1gH-",
        "colab_type": "code",
        "colab": {}
      },
      "source": [
        "from sklearn.datasets import fetch_openml\n",
        "X, y = fetch_openml('mnist_784', version=1, return_X_y=True)"
      ],
      "execution_count": 0,
      "outputs": []
    },
    {
      "cell_type": "code",
      "metadata": {
        "id": "oKUxA9qz20IT",
        "colab_type": "code",
        "colab": {}
      },
      "source": [
        "import numpy as np"
      ],
      "execution_count": 0,
      "outputs": []
    },
    {
      "cell_type": "code",
      "metadata": {
        "id": "F5l0Vqz22Vy3",
        "colab_type": "code",
        "colab": {}
      },
      "source": [
        "X_train,X_test,y_train,y_test = X[:60000],X[60000:],y[:60000],y[60000:]"
      ],
      "execution_count": 0,
      "outputs": []
    },
    {
      "cell_type": "code",
      "metadata": {
        "id": "SYmTMy8q2gDR",
        "colab_type": "code",
        "colab": {}
      },
      "source": [
        "shuffled_indexes = np.random.permutation(60000)"
      ],
      "execution_count": 0,
      "outputs": []
    },
    {
      "cell_type": "code",
      "metadata": {
        "id": "38jB8R4t2jLR",
        "colab_type": "code",
        "colab": {}
      },
      "source": [
        "X_train = X_train[shuffled_indexes]\n",
        "y_train = y_train[shuffled_indexes]"
      ],
      "execution_count": 0,
      "outputs": []
    },
    {
      "cell_type": "code",
      "metadata": {
        "id": "rG74Pr1M17Es",
        "colab_type": "code",
        "colab": {}
      },
      "source": [
        "from sklearn.neighbors import KNeighborsClassifier"
      ],
      "execution_count": 0,
      "outputs": []
    },
    {
      "cell_type": "code",
      "metadata": {
        "id": "6TrppHbf1wy6",
        "colab_type": "code",
        "colab": {}
      },
      "source": [
        "estimator = KNeighborsClassifier()"
      ],
      "execution_count": 0,
      "outputs": []
    },
    {
      "cell_type": "code",
      "metadata": {
        "id": "hFU-jq4B1xiy",
        "colab_type": "code",
        "colab": {}
      },
      "source": [
        "from sklearn.model_selection import GridSearchCV"
      ],
      "execution_count": 0,
      "outputs": []
    },
    {
      "cell_type": "code",
      "metadata": {
        "id": "f3nBtBzB2CwS",
        "colab_type": "code",
        "colab": {}
      },
      "source": [
        "param_grid = [\n",
        "    { \"n_neighbors\": [5,7,9,11,13,15,17,20] },\n",
        "    { \"weights\" : ['uniform', 'distance']}\n",
        "]"
      ],
      "execution_count": 0,
      "outputs": []
    },
    {
      "cell_type": "code",
      "metadata": {
        "id": "QwO8c-9r2EXR",
        "colab_type": "code",
        "colab": {}
      },
      "source": [
        "classifier = GridSearchCV(estimator = estimator , param_grid =  param_grid , cv = 3)"
      ],
      "execution_count": 0,
      "outputs": []
    },
    {
      "cell_type": "code",
      "metadata": {
        "id": "Z1ceBb_r2Gfy",
        "colab_type": "code",
        "colab": {}
      },
      "source": [
        "classifier.fit(X_train,y_train)"
      ],
      "execution_count": 0,
      "outputs": []
    }
  ]
}